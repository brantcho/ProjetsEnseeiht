{
 "cells": [
  {
   "cell_type": "markdown",
   "metadata": {},
   "source": [
    "<center>\n",
    "    <h1>Tchoffo Ngnintedem Cyril --- 2SN Groupe B2 </h1> \n",
    "<h1> TP-Projet d'optimisation numérique </h1>\n",
    "<h1> Algorithme du Lagrangien Augmenté </h1>\n",
    "</center>"
   ]
  },
  {
   "cell_type": "markdown",
   "metadata": {},
   "source": [
    "## Implémentation\n",
    "\n",
    "1. Implémenter l'algorithme du lagrangien augmenté, en utilisant les différentes méthodes\n",
    "qui ont été vues en première partie pour la résolution de la suite de problémes sans\n",
    "contraintes (fichier `Lagrangien_Augmente.jl`). La spécification de l'algorithme du Lagrangien augmenté est donnée ci-dessous.\n",
    " "
   ]
  },
  {
   "cell_type": "code",
   "execution_count": 1,
   "metadata": {},
   "outputs": [
    {
     "data": {
      "text/plain": [
       "Lagrangien_Augmente"
      ]
     },
     "execution_count": 1,
     "metadata": {},
     "output_type": "execute_result"
    }
   ],
   "source": [
    "using LinearAlgebra\n",
    "using Documenter\n",
    "using Markdown  \n",
    "include(\"Lagrangien_Augmente.jl\")\n",
    "#@doc Lagrangien_Augmente"
   ]
  },
  {
   "cell_type": "markdown",
   "metadata": {},
   "source": [
    "3. Vérifier que les tests ci-dessous passent."
   ]
  },
  {
   "cell_type": "code",
   "execution_count": 97,
   "metadata": {},
   "outputs": [
    {
     "name": "stdout",
     "output_type": "stream",
     "text": [
      "\u001b[0m\u001b[1mTest Summary:            | \u001b[22m\u001b[32m\u001b[1mPass  \u001b[22m\u001b[39m\u001b[36m\u001b[1mTotal  \u001b[22m\u001b[39m\u001b[0m\u001b[1mTime\u001b[22m\n",
      "Test lagrangien augmente | \u001b[32m  12  \u001b[39m\u001b[36m   12  \u001b[39m\u001b[0m1.8s\n"
     ]
    }
   ],
   "source": [
    "using Test\n",
    "\n",
    "# Tolérance pour les tests d'égalité\n",
    "tol_erreur = sqrt(eps())\n",
    "\n",
    "## ajouter les fonctions de test\n",
    "include(\"../test/fonctions_de_tests.jl\")\n",
    "include(\"../test/tester_lagrangien_augmente.jl\")\n",
    "include(\"../src/Algorithme_De_Newton.jl\")\n",
    "include(\"../src/Pas_De_Cauchy.jl\")\n",
    "include(\"../src/Gradient_Conjugue_Tronque.jl\")\n",
    "include(\"../src/Regions_De_Confiance.jl\")\n",
    "include(\"../src/Lagrangien_Augmente.jl\")\n",
    "\n",
    "affiche = false\n",
    "\n",
    "\n",
    "@testset \"Test lagrangien augmente\" begin\n",
    "\ttester_lagrangien_augmente(affiche, Lagrangien_Augmente)\n",
    "end;"
   ]
  },
  {
   "cell_type": "markdown",
   "metadata": {},
   "source": [
    "## Interprétation\n",
    "\n",
    " 1. Commenter les résultats obtenus, en étudiant notamment les valeurs de $\\lambda_k$ et $\\mu_k$.\n",
    " \n",
    " 2. Étudier l'influence du paramètre $\\tau$ dans la performance de l'algorithme. Pour cela Vous réaliserez des tests numériques.\n",
    " \n",
    " 3. **Supplémentaire** : \n",
    "      Que proposez-vous comme méthode pour la résolution des problèmes avec\n",
    "      des contraintes à la fois d'égalité et d'inégalité ? Implémenter (si le temps le permet)\n",
    "      ce nouvel algorithme."
   ]
  },
  {
   "cell_type": "code",
   "execution_count": null,
   "metadata": {
    "scrolled": true
   },
   "outputs": [],
   "source": [
    "\n"
   ]
  },
  {
   "cell_type": "code",
   "execution_count": 93,
   "metadata": {
    "scrolled": true
   },
   "outputs": [
    {
     "name": "stdout",
     "output_type": "stream",
     "text": [
      "-------------------------------------------------------------------------\n",
      "\u001b[34m\u001b[1mRésultats de : lagrangien augmenté avec cauchy appliqué à f1 au point initial [1.0, 0.0, 0.0]\u001b[22m\u001b[39m\n",
      "\u001b[34m\u001b[1mavec la contrainte x1 + x3 -1 = 0:\u001b[22m\u001b[39m\n",
      "  * xsol = [0.5000041207733945, 1.2499987957115644, 0.5000006960834793]\n",
      "  * f(xsol) = 2.2499783242021367\n",
      "  * nb_iters = 2\n",
      "  * flag = 1\n",
      "-------------------------------------------------------------------------\n",
      "\u001b[34m\u001b[1mRésultats de : lagrangien augmenté avec cauchy appliqué à f1 au point initial [10.0, 3.0, -2.2]\u001b[22m\u001b[39m\n",
      "\u001b[34m\u001b[1mavec la contrainte x1 + x3 -1 = 0:\u001b[22m\u001b[39m\n",
      "  * xsol = [0.5000037596757964, 1.2499989933969697, 0.5000002664965327]\n",
      "  * f(xsol) = 2.2499818822670923\n",
      "  * nb_iters = 2\n",
      "  * flag = 1\n",
      "-------------------------------------------------------------------------\n",
      "\u001b[34m\u001b[1mRésultats de : lagrangien augmenté avec cauchy appliqué à f2 au point initial [1.0, 0.0]\u001b[22m\u001b[39m\n",
      "\u001b[34m\u001b[1mavec la contrainte x1^2 + x2^2 -1 = 0:\u001b[22m\u001b[39m\n",
      "  * xsol = [0.9072338687218094, 0.822755282698474]\n",
      "  * f(xsol) = 0.008615668139267129\n",
      "  * nb_iters = 2\n",
      "  * flag = 0\n",
      "-------------------------------------------------------------------------\n",
      "\u001b[34m\u001b[1mRésultats de : lagrangien augmenté avec cauchy appliqué à f2 au point initial [10.0, 0.0]\u001b[22m\u001b[39m\n",
      "\u001b[34m\u001b[1mavec la contrainte x1^2 + x2^2 -1 = 0:\u001b[22m\u001b[39m\n",
      "  * xsol = [0.9070366375045187, 0.8223774467369693]\n",
      "  * f(xsol) = 0.008653612183093793\n",
      "  * nb_iters = 1\n",
      "  * flag = 1\n",
      "-------------------------------------------------------------------------\n",
      "\u001b[34m\u001b[1mRésultats de : lagrangien augmenté avec cauchy appliqué à f2 au point initial [0.0, 0.0050000000010000005]\u001b[22m\u001b[39m\n",
      "\u001b[34m\u001b[1mavec la contrainte x1^2 + x2^2 -1 = 0:\u001b[22m\u001b[39m\n",
      "  * xsol = [0.9072340026282525, 0.8227555264987274]\n",
      "  * f(xsol) = 0.00861564324244652\n",
      "  * nb_iters = 2\n",
      "  * flag = 1\n"
     ]
    }
   ],
   "source": [
    "# Vos tests#using Pkg; Pkg.add(\"LinearAlgebra\"); Pkg.add(\"Markdown\")\n",
    "# using Documenter\n",
    "using LinearAlgebra\n",
    "using Markdown         \n",
    "\n",
    "include(\"Lagrangien_Augmente.jl\")\n",
    "include(\"Pas_De_Cauchy.jl\")\n",
    "include(\"Regions_De_Confiance.jl\")\n",
    "\n",
    "# Affichage les sorties de l'algorithme des Régions de confiance\n",
    "function my_afficher_resultats(algo,nom_fct,nom_contrainte,point_init,xmin,fxmin,flag,nbiters)\n",
    "\tprintln(\"-------------------------------------------------------------------------\")\n",
    "\tprintstyled(\"Résultats de : \",algo, \" appliqué à \",nom_fct, \" au point initial \", point_init,\"\\n\",\"avec la contrainte \",nom_contrainte,\" = 0\", \":\\n\",bold=true,color=:blue)\n",
    "\tprintln(\"  * xsol = \",xmin)\n",
    "\tprintln(\"  * f(xsol) = \",fxmin)\n",
    "\tprintln(\"  * nb_iters = \",nbiters)\n",
    "\tprintln(\"  * flag = \",flag)\n",
    "end\n",
    "\n",
    "################# Test sur les problèmes de l'annexe 1################\n",
    "# probleme 1\n",
    "f1(x) = 2*(x[1]+x[2]+x[3]-3)^2 + (x[1]-x[2])^2 + (x[2]-x[3])^2\n",
    "grad_f1(x) = [4*(x[1]+x[2]+x[3]-3) + 2*(x[1]-x[2]);4*(x[1]+x[2]+x[3]-3) - 2*(x[1]-x[2]) + 2*(x[2]-x[3]) ;4*(x[1]+x[2]+x[3]-3) - 2*(x[2]-x[3]) ]\n",
    "hessienne_f1(x) = [6. 2. 4. ; 2. 8. 2. ; 4. 2. 6.] \n",
    "contrainte_1(x) = x[1] + x[3] - 1\n",
    "grad_contrainte_1(x) = [1 ;0;1]\n",
    "hess_contrainte_1(x) = [0 0 0;0 0 0; 0 0 0]\n",
    "\n",
    "x011 = [1.; 0. ;0.]\n",
    "x012 = [10. ;3. ;-2.2]\n",
    "\n",
    "\n",
    "# probleme 2\n",
    "f2(x) = 100(x[2]-x[1]^2)^2 + (1-x[1])^2\n",
    "grad_f2(x) = [-400*x[1]*(x[2]-x[1]^2)-2*(1-x[1]); 200*(x[2]-x[1]^2)]\n",
    "hessienne_f2(x) = [400*(3*x[1]^2 - x[2]) + 2    -400*x[1]   ; -400*x[1]   200]\n",
    "contrainte_2(x) =  (x[1]^2) + (x[2]^2) -1.5\n",
    "grad_contrainte_2(x) = [2*x[1] ;2*x[2]]\n",
    "hess_contrainte_2(x) = [2 0;0 2]\n",
    "x021 = [1.; 0.]\n",
    "\n",
    "# x021 = [-1.2 ; 1.]\n",
    "x022 = [10. ; 0.0]\n",
    "x023 = [0 ; 1/200 + 1/(10)^12]\n",
    "\n",
    "\n",
    "options = [1e-2 , 1e-5 , 1000 ,2 , 2000 , 2 ]\n",
    "#####################################################################\n",
    "\n",
    "\n",
    "xmin,fxmin,flag,nb_iters = Lagrangien_Augmente(\"cauchy\",f1,contrainte_1,grad_f1,hessienne_f1,grad_contrainte_1,hess_contrainte_1,x011,options)\n",
    "my_afficher_resultats(\"lagrangien augmenté avec cauchy\",\"f1\",\"x1 + x3 -1\",x011,xmin,fxmin,flag,nb_iters)\n",
    "\n",
    "xmin,fxmin,flag,nb_iters = Lagrangien_Augmente(\"cauchy\",f1,contrainte_1,grad_f1,hessienne_f1,grad_contrainte_1,hess_contrainte_1,x012,options)\n",
    "my_afficher_resultats(\"lagrangien augmenté avec cauchy\",\"f1\",\"x1 + x3 -1\",x012,xmin,fxmin,flag,nb_iters)\n",
    "    \n",
    "xmin,fxmin,flag,nb_iters = Lagrangien_Augmente(\"cauchy\",f2,contrainte_2,grad_f2,hessienne_f2,grad_contrainte_2,hess_contrainte_2,x021,options)\n",
    "my_afficher_resultats(\"lagrangien augmenté avec cauchy\",\"f2\",\"x1^2 + x2^2 -1\",x021,xmin,fxmin,flag,nb_iters)\n",
    "    \n",
    "xmin,fxmin,flag,nb_iters = Lagrangien_Augmente(\"cauchy\",f2,contrainte_2,grad_f2,hessienne_f2,grad_contrainte_2,hess_contrainte_2,x022,options)\n",
    "\n",
    "my_afficher_resultats(\"lagrangien augmenté avec cauchy\",\"f2\",\"x1^2 + x2^2 -1\",x022,xmin,fxmin,flag,nb_iters)\n",
    "\n",
    "xmin,fxmin,flag,nb_iters = Lagrangien_Augmente(\"cauchy\",f2,contrainte_2,grad_f2,hessienne_f2,grad_contrainte_2,hess_contrainte_2,x023,options)\n",
    "my_afficher_resultats(\"lagrangien augmenté avec cauchy\",\"f2\",\"x1^2 + x2^2 -1\",x023,xmin,fxmin,flag,nb_iters)"
   ]
  },
  {
   "cell_type": "code",
   "execution_count": null,
   "metadata": {
    "scrolled": false
   },
   "outputs": [],
   "source": [
    "# Vos tests\n",
    "#using Pkg; Pkg.add(\"LinearAlgebra\"); Pkg.add(\"Markdown\")\n",
    "# using Documenter\n",
    "using LinearAlgebra\n",
    "using Markdown         \n",
    "\n",
    "include(\"Lagrangien_Augmente.jl\")\n",
    "include(\"Gradient_Conjugue_Tronque.jl\")\n",
    "include(\"Regions_De_Confiance.jl\")\n",
    "\n",
    "# Affichage les sorties de l'algorithme des Régions de confiance\n",
    "function my_afficher_resultats(algo,nom_fct,nom_contrainte,point_init,xmin,fxmin,flag,nbiters)\n",
    "\tprintln(\"-------------------------------------------------------------------------\")\n",
    "\tprintstyled(\"Résultats de : \",algo, \" appliqué à \",nom_fct, \" au point initial \", point_init,\"\\n\",\"avec la contrainte \",nom_contrainte,\" = 0\", \":\\n\",bold=true,color=:blue)\n",
    "\tprintln(\"  * xsol = \",xmin)\n",
    "\tprintln(\"  * f(xsol) = \",fxmin)\n",
    "\tprintln(\"  * nb_iters = \",nbiters)\n",
    "\tprintln(\"  * flag = \",flag)\n",
    "end\n",
    "\n",
    "################# Test sur les problèmes de l'annexe 1################\n",
    "# probleme 1\n",
    "f1(x) = 2*(x[1]+x[2]+x[3]-3)^2 + (x[1]-x[2])^2 + (x[2]-x[3])^2\n",
    "grad_f1(x) = [4*(x[1]+x[2]+x[3]-3) + 2*(x[1]-x[2]);4*(x[1]+x[2]+x[3]-3) - 2*(x[1]-x[2]) + 2*(x[2]-x[3]) ;4*(x[1]+x[2]+x[3]-3) - 2*(x[2]-x[3]) ]\n",
    "hessienne_f1(x) = [6. 2. 4. ; 2. 8. 2. ; 4. 2. 6.] \n",
    "contrainte_1(x) = x[1] + x[3] - 1\n",
    "grad_contrainte_1(x) = [1 ;0;1]\n",
    "hess_contrainte_1(x) = [0 0 0;0 0 0; 0 0 0]\n",
    "\n",
    "x011 = [1.; 0. ;0.]\n",
    "x012 = [10. ;3. ;-2.2]\n",
    "\n",
    "\n",
    "# probleme 2\n",
    "f2(x) = 100(x[2]-x[1]^2)^2 + (1-x[1])^2\n",
    "grad_f2(x) = [-400*x[1]*(x[2]-x[1]^2)-2*(1-x[1]); 200*(x[2]-x[1]^2)]\n",
    "hessienne_f2(x) = [400*(3*x[1]^2 - x[2]) + 2    -400*x[1]   ; -400*x[1]   200]\n",
    "contrainte_2(x) =  (x[1]^2) + (x[2]^2) -1.5\n",
    "grad_contrainte_2(x) = [2*x[1] ;2*x[2]]\n",
    "hess_contrainte_2(x) = [2 0;0 2]\n",
    "\n",
    "x021 = [-1.2 ; 1.]\n",
    "x022 = [10. ; 0.0]\n",
    "x023 = [0 ; 1/200 + 1/(10)^12]\n",
    "\n",
    "\n",
    "options = []\n",
    "#####################################################################\n",
    "\n",
    "\n",
    "xmin,fxmin,flag,nb_iters = Lagrangien_Augmente(\"gct\",f1,contrainte_1,grad_f1,hessienne_f1,grad_contrainte_1,hess_contrainte_1,x011,options)\n",
    "my_afficher_resultats(\"lagrangien augmenté avec gct\",\"f1\",\"x1 + x3 -1.5\",x011,xmin,fxmin,flag,nb_iters)\n",
    "\n",
    "xmin,fxmin,flag,nb_iters = Lagrangien_Augmente(\"gct\",f1,contrainte_1,grad_f1,hessienne_f1,grad_contrainte_1,hess_contrainte_1,x012,options)\n",
    "my_afficher_resultats(\"lagrangien augmenté avec gct\",\"f1\",\"x1 + x3 -1.5\",x012,xmin,fxmin,flag,nb_iters)\n",
    "    \n",
    "xmin,fxmin,flag,nb_iters = Lagrangien_Augmente(\"gct\",f2,contrainte_2,grad_f2,hessienne_f2,grad_contrainte_2,hess_contrainte_2,x021,options)\n",
    "my_afficher_resultats(\"lagrangien augmenté avec gct\",\"f2\",\"x1^2 + x2^2 -1.5\",x021,xmin,fxmin,flag,nb_iters)\n",
    "    \n",
    "xmin,fxmin,flag,nb_iters = Lagrangien_Augmente(\"gct\",f2,contrainte_2,grad_f2,hessienne_f2,grad_contrainte_2,hess_contrainte_2,x022,options)\n",
    "my_afficher_resultats(\"lagrangien augmenté avec gct\",\"f2\",\"x1^2 + x2^2 -1.5\",x022,xmin,fxmin,flag,nb_iters)\n",
    "\n",
    "xmin,fxmin,flag,nb_iters = Lagrangien_Augmente(\"gct\",f2,contrainte_2,grad_f2,hessienne_f2,grad_contrainte_2,hess_contrainte_2,x023,options)\n",
    "my_afficher_resultats(\"lagrangien augmenté avec gct\",\"f2\",\"x1^2 + x2^2 -1.5\",x023,xmin,fxmin,flag,nb_iters)\n",
    "\n",
    "###########################################################################\n",
    "options = [1e-8 1e-5 50 20000 1000000 2]\n",
    "xmin,fxmin,flag,nb_iters = Lagrangien_Augmente(\"gct\",f1,contrainte_1,grad_f1,hessienne_f1,grad_contrainte_1,hess_contrainte_1,x011,options)\n",
    "my_afficher_resultats(\"lagrangien augmenté avec gct en augmentant lamba0 et mu0\",\"f1\",\"x1 + x3 -1.5\",x011,xmin,fxmin,flag,nb_iters)\n",
    "\n",
    "options = [1e-8 1e-5 50 0.0002 0.01 2]\n",
    "xmin,fxmin,flag,nb_iters = Lagrangien_Augmente(\"gct\",f1,contrainte_1,grad_f1,hessienne_f1,grad_contrainte_1,hess_contrainte_1,x011,options)\n",
    "my_afficher_resultats(\"lagrangien augmenté avec gct en diminuant lamba0 et mu0\",\"f1\",\"x1 + x3 -1.5\",x011,xmin,fxmin,flag,nb_iters)\n",
    "\n",
    "options = [1e-8 1e-5 50 0.0002 1000000 2]\n",
    "xmin,fxmin,flag,nb_iters = Lagrangien_Augmente(\"gct\",f1,contrainte_1,grad_f1,hessienne_f1,grad_contrainte_1,hess_contrainte_1,x011,options)\n",
    "my_afficher_resultats(\"lagrangien augmenté avec gct en diminuant lamba0 et en augmentant mu0\",\"f1\",\"x1 + x3 -1.5\",x011,xmin,fxmin,flag,nb_iters)\n",
    "\n",
    "options = [1e-8 1e-5 50 20000 0.01 2]\n",
    "xmin,fxmin,flag,nb_iters = Lagrangien_Augmente(\"gct\",f1,contrainte_1,grad_f1,hessienne_f1,grad_contrainte_1,hess_contrainte_1,x011,options)\n",
    "my_afficher_resultats(\"lagrangien augmenté avec gct en augmentant lamba0 et en diminuant mu0\",\"f1\",\"x1 + x3 -1.5\",x011,xmin,fxmin,flag,nb_iters)\n",
    "\n",
    "options = [1e-8 1e-5 50 20000 100 2]\n",
    "xmin,fxmin,flag,nb_iters = Lagrangien_Augmente(\"gct\",f1,contrainte_1,grad_f1,hessienne_f1,grad_contrainte_1,hess_contrainte_1,x011,options)\n",
    "my_afficher_resultats(\"lagrangien augmenté avec gct en augmentant lamba0\",\"f1\",\"x1 + x3 -1.5\",x011,xmin,fxmin,flag,nb_iters)\n",
    "\n",
    "options = [1e-8 1e-5 50 0.0002 100 2]\n",
    "xmin,fxmin,flag,nb_iters = Lagrangien_Augmente(\"gct\",f1,contrainte_1,grad_f1,hessienne_f1,grad_contrainte_1,hess_contrainte_1,x011,options)\n",
    "my_afficher_resultats(\"lagrangien augmenté avec gct en diminuant lamba0\",\"f1\",\"x1 + x3 -1.5\",x011,xmin,fxmin,flag,nb_iters)\n",
    "\n",
    "options = [1e-8 1e-5 50 2 1000000 2]\n",
    "xmin,fxmin,flag,nb_iters = Lagrangien_Augmente(\"gct\",f1,contrainte_1,grad_f1,hessienne_f1,grad_contrainte_1,hess_contrainte_1,x011,options)\n",
    "my_afficher_resultats(\"lagrangien augmenté avec gct en augmentant mu0\",\"f1\",\"x1 + x3 -1.5\",x011,xmin,fxmin,flag,nb_iters)\n",
    "\n",
    "options = [1e-8 1e-5 5000 2 0.01 2]\n",
    "xmin,fxmin,flag,nb_iters = Lagrangien_Augmente(\"gct\",f1,contrainte_1,grad_f1,hessienne_f1,grad_contrainte_1,hess_contrainte_1,x011,options)\n",
    "my_afficher_resultats(\"lagrangien augmenté avec gct en diminuant mu0\",\"f1\",\"x1 + x3 -1.5\",x011,xmin,fxmin,flag,nb_iters)\n",
    "\n",
    "options = [1e-8 1e-5 50 2 100 20000]\n",
    "xmin,fxmin,flag,nb_iters = Lagrangien_Augmente(\"gct\",f1,contrainte_1,grad_f1,hessienne_f1,grad_contrainte_1,hess_contrainte_1,x011,options)\n",
    "my_afficher_resultats(\"lagrangien augmenté avec gct en augmentant tho\",\"f1\",\"x1 + x3 -1.5\",x011,xmin,fxmin,flag,nb_iters)\n",
    "\n",
    "options = [1e-8 1e-5 50 2 100 0.0002]\n",
    "xmin,fxmin,flag,nb_iters = Lagrangien_Augmente(\"gct\",f1,contrainte_1,grad_f1,hessienne_f1,grad_contrainte_1,hess_contrainte_1,x011,options)\n",
    "my_afficher_resultats(\"lagrangien augmenté avec gct en diminuant tho\",\"f1\",\"x1 + x3 -1.5\",x011,xmin,fxmin,flag,nb_iters)"
   ]
  },
  {
   "cell_type": "markdown",
   "metadata": {},
   "source": [
    "## Réponses \n",
    "1. * $\\mu_k$ : D'après l'analyse des différents cas il sied de retenir qu'une diminution de $\\mu_k$  entraine une stagnation de l'algorithme avec une solution non adéquate, en revanche une augmentation de $\\mu_k$ produit une résultat bien plus précis. \n",
    "   * $\\lambda_k$ : Une modification de $\\lambda_k$ n'entraîne pas un changement considérable de l'algorithme.\n",
    "   \n",
    "\n",
    "2. D'après les résultats obtenus : \n",
    " * Augmenter $\\tau_k$ produit des résultats plus précis\n",
    " * Diminuer $\\tau_k$ produit des résulats moins précis.\n",
    "\n",
    "   Conclusion : Il faut augmenter $\\tau$ pour améliorer la précision.                           \n",
    "        "
   ]
  }
 ],
 "metadata": {
  "kernelspec": {
   "display_name": "Julia 1.8.1",
   "language": "julia",
   "name": "julia-1.8"
  },
  "language_info": {
   "file_extension": ".jl",
   "mimetype": "application/julia",
   "name": "julia",
   "version": "1.8.1"
  }
 },
 "nbformat": 4,
 "nbformat_minor": 4
}
